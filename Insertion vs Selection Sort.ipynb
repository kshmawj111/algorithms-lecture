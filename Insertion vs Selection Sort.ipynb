{
 "cells": [
  {
   "cell_type": "code",
   "execution_count": 1,
   "id": "robust-bookmark",
   "metadata": {},
   "outputs": [],
   "source": [
    "from utils.recorder import Recorder\n",
    "from random import randint\n",
    "from copy import copy\n",
    "from sorting.merge_sort import merge_sort\n",
    "from sorting.merge_sort_iterative import merge_sort_iter\n",
    "from sorting.quick_sort import quick_sort\n",
    "from sorting.quick_sort_3way import quick_sort_3way\n",
    "from sorting.selection_sort import selection_sort\n",
    "from sorting.insertion_sort import insert_sort_optimized\n",
    "from sorting.insertion_sort import insert_sort\n",
    "import pandas as pd\n",
    "import numpy as np"
   ]
  },
  {
   "cell_type": "code",
   "execution_count": 5,
   "id": "suited-panel",
   "metadata": {},
   "outputs": [],
   "source": [
    "recorder = Recorder()\n",
    "\n",
    "for x in range(3, 7):\n",
    "    data = np.random.rand(np.power(10, x))\n",
    "    c_data = copy(data)\n",
    "    recorder.execute(selection_sort, *c_data)\n",
    "    recorder.execute(insert_sort, )\n",
    "\n",
    "\n",
    "\n"
   ]
  },
  {
   "cell_type": "code",
   "execution_count": 5,
   "id": "endangered-blink",
   "metadata": {},
   "outputs": [],
   "source": []
  }
 ],
 "metadata": {
  "kernelspec": {
   "display_name": "Python 3",
   "language": "python",
   "name": "python3"
  },
  "language_info": {
   "codemirror_mode": {
    "name": "ipython",
    "version": 3
   },
   "file_extension": ".py",
   "mimetype": "text/x-python",
   "name": "python",
   "nbconvert_exporter": "python",
   "pygments_lexer": "ipython3",
   "version": "3.8.5"
  }
 },
 "nbformat": 4,
 "nbformat_minor": 5
}