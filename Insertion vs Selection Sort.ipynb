{
 "cells": [
  {
   "cell_type": "code",
   "execution_count": 1,
   "id": "robust-bookmark",
   "metadata": {},
   "outputs": [],
   "source": [
    "from utils.recorder import Recorder\n",
    "from sorting.merge_sort import merge_sort\n",
    "from sorting.merge_sort_iterative import merge_sort_iterative\n",
    "from sorting.quick_sort import quick_sort\n",
    "from sorting.quick_sort_3way import quick_sort_3way\n",
    "from sorting.selection_sort import selection_sort\n",
    "from sorting.insertion_sort import insert_sort_optimized\n",
    "from sorting.insertion_sort import insert_sort\n",
    "import numpy as np\n",
    "\n",
    "%load_ext autoreload\n",
    "%autoreload 2"
   ]
  },
  {
   "cell_type": "code",
   "execution_count": 2,
   "id": "suited-panel",
   "metadata": {
    "pycharm": {
     "is_executing": true
    }
   },
   "outputs": [],
   "source": [
    "from threading import Thread\n",
    "\n",
    "recorder = Recorder()\n",
    "start, end, step = 100, 2000, 200\n",
    "\n",
    "for x in range(start,end, step):\n",
    "    data = list(np.random.randint(x, size=(x,1)))\n",
    "\n",
    "    p1 = Thread(target=recorder.execute, args=(selection_sort, data))\n",
    "    p2 = Thread(target=recorder.execute, args=(insert_sort, data))\n",
    "    p3 = Thread(target=recorder.execute, args=(insert_sort_optimized, data))\n",
    "    p4 = Thread(target=recorder.execute, args=(merge_sort, data, [0, len(data)-1]))\n",
    "    p6 = Thread(target=recorder.execute, args=(quick_sort, data, [0, len(data)-1]))\n",
    "    p7 = Thread(target=recorder.execute, args=(quick_sort_3way, data, [0, len(data)-1]))\n",
    "\n",
    "    p1.start()\n",
    "    p2.start()\n",
    "    p3.start()\n",
    "    p4.start()\n",
    "    p6.start()\n",
    "    p7.start()\n",
    "\n",
    "    p1.join()\n",
    "    p2.join()\n",
    "    p3.join()\n",
    "    p4.join()\n",
    "    p6.join()\n",
    "    p7.join()"
   ]
  },
  {
   "cell_type": "code",
   "execution_count": 3,
   "id": "endangered-blink",
   "metadata": {
    "pycharm": {
     "is_executing": true
    }
   },
   "outputs": [
    {
     "data": {
      "text/html": [
       "<div>\n",
       "<style scoped>\n",
       "    .dataframe tbody tr th:only-of-type {\n",
       "        vertical-align: middle;\n",
       "    }\n",
       "\n",
       "    .dataframe tbody tr th {\n",
       "        vertical-align: top;\n",
       "    }\n",
       "\n",
       "    .dataframe thead th {\n",
       "        text-align: right;\n",
       "    }\n",
       "</style>\n",
       "<table border=\"1\" class=\"dataframe\">\n",
       "  <thead>\n",
       "    <tr style=\"text-align: right;\">\n",
       "      <th></th>\n",
       "      <th>selection_sort</th>\n",
       "      <th>insert_sort</th>\n",
       "      <th>insert_sort_optimized</th>\n",
       "      <th>merge_sort</th>\n",
       "      <th>quick_sort</th>\n",
       "      <th>quick_sort_3way</th>\n",
       "    </tr>\n",
       "  </thead>\n",
       "  <tbody>\n",
       "    <tr>\n",
       "      <th>100</th>\n",
       "      <td>0.004999</td>\n",
       "      <td>0.002999</td>\n",
       "      <td>0.002003</td>\n",
       "      <td>0.000000</td>\n",
       "      <td>0.001003</td>\n",
       "      <td>0.001999</td>\n",
       "    </tr>\n",
       "    <tr>\n",
       "      <th>300</th>\n",
       "      <td>0.053002</td>\n",
       "      <td>0.028003</td>\n",
       "      <td>0.018996</td>\n",
       "      <td>0.002998</td>\n",
       "      <td>0.003003</td>\n",
       "      <td>0.005999</td>\n",
       "    </tr>\n",
       "    <tr>\n",
       "      <th>500</th>\n",
       "      <td>0.190006</td>\n",
       "      <td>0.166999</td>\n",
       "      <td>0.134998</td>\n",
       "      <td>0.004998</td>\n",
       "      <td>0.004997</td>\n",
       "      <td>0.010001</td>\n",
       "    </tr>\n",
       "    <tr>\n",
       "      <th>700</th>\n",
       "      <td>0.468995</td>\n",
       "      <td>0.306000</td>\n",
       "      <td>0.329999</td>\n",
       "      <td>0.007004</td>\n",
       "      <td>0.007996</td>\n",
       "      <td>0.014004</td>\n",
       "    </tr>\n",
       "    <tr>\n",
       "      <th>900</th>\n",
       "      <td>0.751007</td>\n",
       "      <td>0.621003</td>\n",
       "      <td>0.492995</td>\n",
       "      <td>0.010002</td>\n",
       "      <td>0.013001</td>\n",
       "      <td>0.051005</td>\n",
       "    </tr>\n",
       "    <tr>\n",
       "      <th>1100</th>\n",
       "      <td>1.119998</td>\n",
       "      <td>0.795005</td>\n",
       "      <td>0.889997</td>\n",
       "      <td>0.012997</td>\n",
       "      <td>0.013001</td>\n",
       "      <td>0.123001</td>\n",
       "    </tr>\n",
       "    <tr>\n",
       "      <th>1300</th>\n",
       "      <td>1.534003</td>\n",
       "      <td>1.156997</td>\n",
       "      <td>1.027000</td>\n",
       "      <td>0.079001</td>\n",
       "      <td>0.067992</td>\n",
       "      <td>0.043002</td>\n",
       "    </tr>\n",
       "    <tr>\n",
       "      <th>1500</th>\n",
       "      <td>2.022998</td>\n",
       "      <td>1.722004</td>\n",
       "      <td>1.397004</td>\n",
       "      <td>0.033998</td>\n",
       "      <td>0.177999</td>\n",
       "      <td>0.240005</td>\n",
       "    </tr>\n",
       "    <tr>\n",
       "      <th>1700</th>\n",
       "      <td>2.659551</td>\n",
       "      <td>2.148539</td>\n",
       "      <td>1.400542</td>\n",
       "      <td>0.085996</td>\n",
       "      <td>0.039005</td>\n",
       "      <td>0.102997</td>\n",
       "    </tr>\n",
       "    <tr>\n",
       "      <th>1900</th>\n",
       "      <td>3.248000</td>\n",
       "      <td>2.491997</td>\n",
       "      <td>2.227997</td>\n",
       "      <td>0.043002</td>\n",
       "      <td>0.044999</td>\n",
       "      <td>0.158001</td>\n",
       "    </tr>\n",
       "  </tbody>\n",
       "</table>\n",
       "</div>"
      ],
      "text/plain": [
       "      selection_sort  insert_sort  insert_sort_optimized  merge_sort  \\\n",
       "100         0.004999     0.002999               0.002003    0.000000   \n",
       "300         0.053002     0.028003               0.018996    0.002998   \n",
       "500         0.190006     0.166999               0.134998    0.004998   \n",
       "700         0.468995     0.306000               0.329999    0.007004   \n",
       "900         0.751007     0.621003               0.492995    0.010002   \n",
       "1100        1.119998     0.795005               0.889997    0.012997   \n",
       "1300        1.534003     1.156997               1.027000    0.079001   \n",
       "1500        2.022998     1.722004               1.397004    0.033998   \n",
       "1700        2.659551     2.148539               1.400542    0.085996   \n",
       "1900        3.248000     2.491997               2.227997    0.043002   \n",
       "\n",
       "      quick_sort  quick_sort_3way  \n",
       "100     0.001003         0.001999  \n",
       "300     0.003003         0.005999  \n",
       "500     0.004997         0.010001  \n",
       "700     0.007996         0.014004  \n",
       "900     0.013001         0.051005  \n",
       "1100    0.013001         0.123001  \n",
       "1300    0.067992         0.043002  \n",
       "1500    0.177999         0.240005  \n",
       "1700    0.039005         0.102997  \n",
       "1900    0.044999         0.158001  "
      ]
     },
     "execution_count": 3,
     "metadata": {},
     "output_type": "execute_result"
    }
   ],
   "source": [
    "import pandas as pd\n",
    "\n",
    "total_result = {}\n",
    "record = recorder.get_record()\n",
    "\n",
    "for k, v in record.items():\n",
    "    total_result[k] = v['sec']\n",
    "\n",
    "\n",
    "df = pd.DataFrame.from_dict(total_result)\n",
    "index = [f'{i}' for i in range(start, end, step)]\n",
    "df.index = index\n",
    "df\n"
   ]
  },
  {
   "cell_type": "code",
   "execution_count": 4,
   "id": "mounted-professor",
   "metadata": {
    "pycharm": {
     "is_executing": true,
     "name": "#%%\n"
    }
   },
   "outputs": [
    {
     "name": "stderr",
     "output_type": "stream",
     "text": [
      "findfont: Font family ['NanumGothic'] not found. Falling back to DejaVu Sans.\n"
     ]
    },
    {
     "data": {
      "image/png": "[encoded data removed]",
      "text/plain": [
       "<Figure size 432x288 with 1 Axes>"
      ]
     },
     "metadata": {
      "needs_background": "light"
     },
     "output_type": "display_data"
    }
   ],
   "source": [
    "import matplotlib.pyplot as plt\n",
    "\n",
    "df.plot()\n",
    "plt.show()"
   ]
  },
  {
   "cell_type": "code",
   "execution_count": null,
   "id": "silver-samba",
   "metadata": {
    "pycharm": {
     "is_executing": true,
     "name": "#%%\n"
    }
   },
   "outputs": [],
   "source": []
  }
 ],
 "metadata": {
  "kernelspec": {
   "display_name": "Python 3",
   "language": "python",
   "name": "python3"
  },
  "language_info": {
   "codemirror_mode": {
    "name": "ipython",
    "version": 3
   },
   "file_extension": ".py",
   "mimetype": "text/x-python",
   "name": "python",
   "nbconvert_exporter": "python",
   "pygments_lexer": "ipython3",
   "version": "3.8.5"
  }
 },
 "nbformat": 4,
 "nbformat_minor": 5
}
