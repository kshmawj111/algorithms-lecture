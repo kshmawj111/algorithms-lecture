{
 "cells": [
  {
   "cell_type": "code",
   "execution_count": 1,
   "id": "robust-bookmark",
   "metadata": {},
   "outputs": [],
   "source": [
    "from time import time_ns, time\n",
    "from random import randint\n",
    "from copy import deepcopy\n",
    "from sorting.merge_sort import merge_sort\n",
    "from sorting.merge_sort_iterative import merge_sort_iter\n",
    "import pandas as pd"
   ]
  },
  {
   "cell_type": "code",
   "execution_count": 2,
   "id": "adapted-little",
   "metadata": {},
   "outputs": [],
   "source": [
    "def selection_sort(_list: list):\n",
    "    for x in range(len(_list)):\n",
    "        min = _list[x]\n",
    "        min_i = x\n",
    "\n",
    "        # 정렬 안된 우측 범위에서 제일 큰 값 하나 고름\n",
    "        for y in range(x+1, len(_list)):\n",
    "            # desceding일 땐 부등호 반대로\n",
    "            if _list[y] < min:\n",
    "                min = _list[y]\n",
    "                min_i = y\n",
    "\n",
    "        # 값을 swap\n",
    "        _list[x], _list[min_i] = _list[min_i], _list[x]"
   ]
  },
  {
   "cell_type": "code",
   "execution_count": 3,
   "id": "viral-supplement",
   "metadata": {},
   "outputs": [],
   "source": [
    "def insert_sort(x):\n",
    "    for i in range(1, len(x)):\n",
    "        j = i - 1\n",
    "        key = x.pop(i)\n",
    "        # 메모리 접근 최소화 한 삽입정렬\n",
    "        while x[j] > key and j >= 0:\n",
    "            j = j - 1\n",
    "        x.insert(j+1, key)\n",
    "    return x"
   ]
  },
  {
   "cell_type": "code",
   "execution_count": 4,
   "id": "fewer-mailing",
   "metadata": {},
   "outputs": [],
   "source": [
    "result_dict = pd.DataFrame()\n",
    "selection_result = []\n",
    "insertion_result = []\n",
    "merge_sort_result = []\n",
    "merge_sort_iter_result = []\n",
    "\n",
    "for i in range(20):\n",
    "    original = []\n",
    "\n",
    "    for _ in range(10000):\n",
    "        original.append(randint(1, 100000))\n",
    "\n",
    "    a = deepcopy(original)\n",
    "    start = time_ns()\n",
    "    selection_sort(a)\n",
    "    end = time_ns()\n",
    "    selection_result.append(end-start)\n",
    "\n",
    "    a = deepcopy(original)\n",
    "    start = time_ns()\n",
    "    insert_sort(a)\n",
    "    end = time_ns()\n",
    "    insertion_result.append(end-start)\n",
    "\n",
    "    a = deepcopy(original)\n",
    "    start = time_ns()\n",
    "    merge_sort(a, 0, len(a)-1)\n",
    "    end = time_ns()\n",
    "    merge_sort_result.append(end-start)\n",
    "\n",
    "    a = deepcopy(original)\n",
    "    start = time_ns()\n",
    "    merge_sort_iter(a)\n",
    "    end = time_ns()\n",
    "    merge_sort_iter_result.append(end-start)"
   ]
  },
  {
   "cell_type": "code",
   "execution_count": 5,
   "id": "subsequent-therapist",
   "metadata": {},
   "outputs": [
    {
     "data": {
      "text/plain": "     Selection   Insertion     Merge  Merge_Iter\n0   2351999300  1476000100  36998400    40999400\n1   2186998400  1447001700  33997000    39002500\n2   2169998500  1412006400  34997600    40001600\n3   2203001400  1395000000  34997600    38998300\n4   2165000100  1418999100  36000100    41000000\n5   2166000100  1392999800  35001400    39000100\n6   2204000200  1513000800  34999100    39999800\n7   2166000400  1400000400  37002900    40001100\n8   2227999300  1550000100  35000700    38999800\n9   2244001600  1522000300  36001300    41001400\n10  2169000600  1398001100  36999700    40996700\n11  2164997900  1400001600  36000100    39000000\n12  2163000000  1387001800  35999800    38999700\n13  2179998200  1407002300  36000700    38998500\n14  2172001000  1381999900  34999900    40000200\n15  2175002100  1377000600  36000100    38999700\n16  2202000100  1363002700  35999300    40000300\n17  2163999400  1390997900  36000200    39998700\n18  2177998200  1405997800  36000200    39998300\n19  2356000200  1443000400  34998700    40997400",
      "text/html": "<div>\n<style scoped>\n    .dataframe tbody tr th:only-of-type {\n        vertical-align: middle;\n    }\n\n    .dataframe tbody tr th {\n        vertical-align: top;\n    }\n\n    .dataframe thead th {\n        text-align: right;\n    }\n</style>\n<table border=\"1\" class=\"dataframe\">\n  <thead>\n    <tr style=\"text-align: right;\">\n      <th></th>\n      <th>Selection</th>\n      <th>Insertion</th>\n      <th>Merge</th>\n      <th>Merge_Iter</th>\n    </tr>\n  </thead>\n  <tbody>\n    <tr>\n      <th>0</th>\n      <td>2351999300</td>\n      <td>1476000100</td>\n      <td>36998400</td>\n      <td>40999400</td>\n    </tr>\n    <tr>\n      <th>1</th>\n      <td>2186998400</td>\n      <td>1447001700</td>\n      <td>33997000</td>\n      <td>39002500</td>\n    </tr>\n    <tr>\n      <th>2</th>\n      <td>2169998500</td>\n      <td>1412006400</td>\n      <td>34997600</td>\n      <td>40001600</td>\n    </tr>\n    <tr>\n      <th>3</th>\n      <td>2203001400</td>\n      <td>1395000000</td>\n      <td>34997600</td>\n      <td>38998300</td>\n    </tr>\n    <tr>\n      <th>4</th>\n      <td>2165000100</td>\n      <td>1418999100</td>\n      <td>36000100</td>\n      <td>41000000</td>\n    </tr>\n    <tr>\n      <th>5</th>\n      <td>2166000100</td>\n      <td>1392999800</td>\n      <td>35001400</td>\n      <td>39000100</td>\n    </tr>\n    <tr>\n      <th>6</th>\n      <td>2204000200</td>\n      <td>1513000800</td>\n      <td>34999100</td>\n      <td>39999800</td>\n    </tr>\n    <tr>\n      <th>7</th>\n      <td>2166000400</td>\n      <td>1400000400</td>\n      <td>37002900</td>\n      <td>40001100</td>\n    </tr>\n    <tr>\n      <th>8</th>\n      <td>2227999300</td>\n      <td>1550000100</td>\n      <td>35000700</td>\n      <td>38999800</td>\n    </tr>\n    <tr>\n      <th>9</th>\n      <td>2244001600</td>\n      <td>1522000300</td>\n      <td>36001300</td>\n      <td>41001400</td>\n    </tr>\n    <tr>\n      <th>10</th>\n      <td>2169000600</td>\n      <td>1398001100</td>\n      <td>36999700</td>\n      <td>40996700</td>\n    </tr>\n    <tr>\n      <th>11</th>\n      <td>2164997900</td>\n      <td>1400001600</td>\n      <td>36000100</td>\n      <td>39000000</td>\n    </tr>\n    <tr>\n      <th>12</th>\n      <td>2163000000</td>\n      <td>1387001800</td>\n      <td>35999800</td>\n      <td>38999700</td>\n    </tr>\n    <tr>\n      <th>13</th>\n      <td>2179998200</td>\n      <td>1407002300</td>\n      <td>36000700</td>\n      <td>38998500</td>\n    </tr>\n    <tr>\n      <th>14</th>\n      <td>2172001000</td>\n      <td>1381999900</td>\n      <td>34999900</td>\n      <td>40000200</td>\n    </tr>\n    <tr>\n      <th>15</th>\n      <td>2175002100</td>\n      <td>1377000600</td>\n      <td>36000100</td>\n      <td>38999700</td>\n    </tr>\n    <tr>\n      <th>16</th>\n      <td>2202000100</td>\n      <td>1363002700</td>\n      <td>35999300</td>\n      <td>40000300</td>\n    </tr>\n    <tr>\n      <th>17</th>\n      <td>2163999400</td>\n      <td>1390997900</td>\n      <td>36000200</td>\n      <td>39998700</td>\n    </tr>\n    <tr>\n      <th>18</th>\n      <td>2177998200</td>\n      <td>1405997800</td>\n      <td>36000200</td>\n      <td>39998300</td>\n    </tr>\n    <tr>\n      <th>19</th>\n      <td>2356000200</td>\n      <td>1443000400</td>\n      <td>34998700</td>\n      <td>40997400</td>\n    </tr>\n  </tbody>\n</table>\n</div>"
     },
     "execution_count": 5,
     "metadata": {},
     "output_type": "execute_result"
    }
   ],
   "source": [
    "result_dict['Selection'] = selection_result\n",
    "result_dict['Insertion'] = insertion_result\n",
    "result_dict['Merge'] = merge_sort_result\n",
    "result_dict['Merge_Iter'] = merge_sort_iter_result\n",
    "result_dict"
   ]
  },
  {
   "cell_type": "code",
   "execution_count": 5,
   "id": "suited-panel",
   "metadata": {},
   "outputs": [],
   "source": []
  },
  {
   "cell_type": "code",
   "execution_count": 5,
   "id": "endangered-blink",
   "metadata": {},
   "outputs": [],
   "source": []
  }
 ],
 "metadata": {
  "kernelspec": {
   "display_name": "Python 3",
   "language": "python",
   "name": "python3"
  },
  "language_info": {
   "codemirror_mode": {
    "name": "ipython",
    "version": 3
   },
   "file_extension": ".py",
   "mimetype": "text/x-python",
   "name": "python",
   "nbconvert_exporter": "python",
   "pygments_lexer": "ipython3",
   "version": "3.8.5"
  }
 },
 "nbformat": 4,
 "nbformat_minor": 5
}